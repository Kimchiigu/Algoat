{
 "cells": [
  {
   "cell_type": "code",
   "execution_count": 1,
   "metadata": {},
   "outputs": [
    {
     "name": "stdout",
     "output_type": "stream",
     "text": [
      "Collecting fastapi\n",
      "  Downloading fastapi-0.112.2-py3-none-any.whl (93 kB)\n",
      "     ---------------------------------------- 93.5/93.5 kB 1.8 MB/s eta 0:00:00\n",
      "Collecting firebase-admin\n",
      "  Using cached firebase_admin-6.5.0-py3-none-any.whl (126 kB)\n",
      "Requirement already satisfied: sentence-transformers in c:\\users\\david\\appdata\\local\\programs\\python\\python310\\lib\\site-packages (3.0.1)\n",
      "Requirement already satisfied: torch in c:\\users\\david\\appdata\\local\\programs\\python\\python310\\lib\\site-packages (2.4.0)\n",
      "Collecting rake-nltk\n",
      "  Using cached rake_nltk-1.0.6-py3-none-any.whl (9.1 kB)\n",
      "Requirement already satisfied: typing-extensions>=4.8.0 in c:\\users\\david\\appdata\\local\\programs\\python\\python310\\lib\\site-packages (from fastapi) (4.12.2)\n",
      "Collecting pydantic!=1.8,!=1.8.1,!=2.0.0,!=2.0.1,!=2.1.0,<3.0.0,>=1.7.4\n",
      "  Using cached pydantic-2.8.2-py3-none-any.whl (423 kB)\n",
      "Collecting starlette<0.39.0,>=0.37.2\n",
      "  Downloading starlette-0.38.2-py3-none-any.whl (72 kB)\n",
      "     ---------------------------------------- 72.0/72.0 kB 2.0 MB/s eta 0:00:00\n",
      "Collecting google-api-core[grpc]<3.0.0dev,>=1.22.1\n",
      "  Downloading google_api_core-2.19.2-py3-none-any.whl (139 kB)\n",
      "     -------------------------------------- 139.4/139.4 kB 4.2 MB/s eta 0:00:00\n",
      "Collecting google-cloud-storage>=1.37.1\n",
      "  Downloading google_cloud_storage-2.18.2-py2.py3-none-any.whl (130 kB)\n",
      "     -------------------------------------- 130.5/130.5 kB 3.9 MB/s eta 0:00:00\n",
      "Collecting cachecontrol>=0.12.6\n",
      "  Using cached cachecontrol-0.14.0-py3-none-any.whl (22 kB)\n",
      "Collecting google-api-python-client>=1.7.8\n",
      "  Downloading google_api_python_client-2.142.0-py2.py3-none-any.whl (12.2 MB)\n",
      "     ---------------------------------------- 12.2/12.2 MB 1.1 MB/s eta 0:00:00\n",
      "Collecting pyjwt[crypto]>=2.5.0\n",
      "  Using cached PyJWT-2.9.0-py3-none-any.whl (22 kB)\n",
      "Collecting google-cloud-firestore>=2.9.1\n",
      "  Downloading google_cloud_firestore-2.18.0-py2.py3-none-any.whl (326 kB)\n",
      "     -------------------------------------- 326.2/326.2 kB 4.1 MB/s eta 0:00:00\n",
      "Requirement already satisfied: huggingface-hub>=0.15.1 in c:\\users\\david\\appdata\\local\\programs\\python\\python310\\lib\\site-packages (from sentence-transformers) (0.24.5)\n",
      "Requirement already satisfied: numpy in c:\\users\\david\\appdata\\local\\programs\\python\\python310\\lib\\site-packages (from sentence-transformers) (1.26.4)\n",
      "Requirement already satisfied: scipy in c:\\users\\david\\appdata\\local\\programs\\python\\python310\\lib\\site-packages (from sentence-transformers) (1.14.0)\n",
      "Requirement already satisfied: Pillow in c:\\users\\david\\appdata\\local\\programs\\python\\python310\\lib\\site-packages (from sentence-transformers) (10.4.0)\n",
      "Requirement already satisfied: scikit-learn in c:\\users\\david\\appdata\\local\\programs\\python\\python310\\lib\\site-packages (from sentence-transformers) (1.5.1)\n",
      "Requirement already satisfied: transformers<5.0.0,>=4.34.0 in c:\\users\\david\\appdata\\local\\programs\\python\\python310\\lib\\site-packages (from sentence-transformers) (4.43.3)\n",
      "Requirement already satisfied: tqdm in c:\\users\\david\\appdata\\local\\programs\\python\\python310\\lib\\site-packages (from sentence-transformers) (4.66.5)\n",
      "Requirement already satisfied: networkx in c:\\users\\david\\appdata\\local\\programs\\python\\python310\\lib\\site-packages (from torch) (3.3)\n",
      "Requirement already satisfied: fsspec in c:\\users\\david\\appdata\\local\\programs\\python\\python310\\lib\\site-packages (from torch) (2024.6.1)\n",
      "Requirement already satisfied: sympy in c:\\users\\david\\appdata\\local\\programs\\python\\python310\\lib\\site-packages (from torch) (1.13.1)\n",
      "Requirement already satisfied: filelock in c:\\users\\david\\appdata\\local\\programs\\python\\python310\\lib\\site-packages (from torch) (3.15.4)\n",
      "Requirement already satisfied: jinja2 in c:\\users\\david\\appdata\\local\\programs\\python\\python310\\lib\\site-packages (from torch) (3.1.4)\n",
      "Collecting nltk<4.0.0,>=3.6.2\n",
      "  Downloading nltk-3.9.1-py3-none-any.whl (1.5 MB)\n",
      "     ---------------------------------------- 1.5/1.5 MB 1.1 MB/s eta 0:00:00\n",
      "Requirement already satisfied: requests>=2.16.0 in c:\\users\\david\\appdata\\local\\programs\\python\\python310\\lib\\site-packages (from cachecontrol>=0.12.6->firebase-admin) (2.32.3)\n",
      "Collecting msgpack<2.0.0,>=0.5.2\n",
      "  Downloading msgpack-1.0.8-cp310-cp310-win_amd64.whl (75 kB)\n",
      "     ---------------------------------------- 75.1/75.1 kB 4.1 MB/s eta 0:00:00\n",
      "Collecting googleapis-common-protos<2.0.dev0,>=1.56.2\n",
      "  Downloading googleapis_common_protos-1.65.0-py2.py3-none-any.whl (220 kB)\n",
      "     -------------------------------------- 220.9/220.9 kB 1.0 MB/s eta 0:00:00\n",
      "Collecting proto-plus<2.0.0dev,>=1.22.3\n",
      "  Using cached proto_plus-1.24.0-py3-none-any.whl (50 kB)\n",
      "Collecting google-auth<3.0.dev0,>=2.14.1\n",
      "  Downloading google_auth-2.34.0-py2.py3-none-any.whl (200 kB)\n",
      "     -------------------------------------- 200.9/200.9 kB 4.1 MB/s eta 0:00:00\n",
      "Requirement already satisfied: protobuf!=3.20.0,!=3.20.1,!=4.21.0,!=4.21.1,!=4.21.2,!=4.21.3,!=4.21.4,!=4.21.5,<6.0.0.dev0,>=3.19.5 in c:\\users\\david\\appdata\\local\\programs\\python\\python310\\lib\\site-packages (from google-api-core[grpc]<3.0.0dev,>=1.22.1->firebase-admin) (4.25.3)\n",
      "Collecting grpcio-status<2.0.dev0,>=1.33.2\n",
      "  Downloading grpcio_status-1.66.0-py3-none-any.whl (14 kB)\n",
      "Requirement already satisfied: grpcio<2.0dev,>=1.33.2 in c:\\users\\david\\appdata\\local\\programs\\python\\python310\\lib\\site-packages (from google-api-core[grpc]<3.0.0dev,>=1.22.1->firebase-admin) (1.65.1)\n",
      "Collecting google-auth-httplib2<1.0.0,>=0.2.0\n",
      "  Using cached google_auth_httplib2-0.2.0-py2.py3-none-any.whl (9.3 kB)\n",
      "Collecting httplib2<1.dev0,>=0.19.0\n",
      "  Using cached httplib2-0.22.0-py3-none-any.whl (96 kB)\n",
      "Collecting uritemplate<5,>=3.0.1\n",
      "  Using cached uritemplate-4.1.1-py2.py3-none-any.whl (10 kB)\n",
      "Collecting google-cloud-core<3.0.0dev,>=1.4.1\n",
      "  Using cached google_cloud_core-2.4.1-py2.py3-none-any.whl (29 kB)\n",
      "Collecting google-crc32c<2.0dev,>=1.0\n",
      "  Downloading google_crc32c-1.5.0-cp310-cp310-win_amd64.whl (27 kB)\n",
      "Collecting google-resumable-media>=2.7.2\n",
      "  Downloading google_resumable_media-2.7.2-py2.py3-none-any.whl (81 kB)\n",
      "     ---------------------------------------- 81.3/81.3 kB 4.4 MB/s eta 0:00:00\n",
      "Requirement already satisfied: packaging>=20.9 in c:\\users\\david\\appdata\\local\\programs\\python\\python310\\lib\\site-packages (from huggingface-hub>=0.15.1->sentence-transformers) (24.1)\n",
      "Requirement already satisfied: pyyaml>=5.1 in c:\\users\\david\\appdata\\local\\programs\\python\\python310\\lib\\site-packages (from huggingface-hub>=0.15.1->sentence-transformers) (6.0.1)\n",
      "Requirement already satisfied: joblib in c:\\users\\david\\appdata\\local\\programs\\python\\python310\\lib\\site-packages (from nltk<4.0.0,>=3.6.2->rake-nltk) (1.4.2)\n",
      "Requirement already satisfied: click in c:\\users\\david\\appdata\\local\\programs\\python\\python310\\lib\\site-packages (from nltk<4.0.0,>=3.6.2->rake-nltk) (8.1.7)\n",
      "Requirement already satisfied: regex>=2021.8.3 in c:\\users\\david\\appdata\\local\\programs\\python\\python310\\lib\\site-packages (from nltk<4.0.0,>=3.6.2->rake-nltk) (2024.7.24)\n",
      "Collecting pydantic-core==2.20.1\n",
      "  Downloading pydantic_core-2.20.1-cp310-none-win_amd64.whl (1.9 MB)\n",
      "     ---------------------------------------- 1.9/1.9 MB 1.7 MB/s eta 0:00:00\n",
      "Collecting annotated-types>=0.4.0\n",
      "  Using cached annotated_types-0.7.0-py3-none-any.whl (13 kB)\n",
      "Collecting cryptography>=3.4.0\n",
      "  Downloading cryptography-43.0.0-cp39-abi3-win_amd64.whl (3.1 MB)\n",
      "     ---------------------------------------- 3.1/3.1 MB 1.2 MB/s eta 0:00:00\n",
      "Collecting anyio<5,>=3.4.0\n",
      "  Downloading anyio-4.4.0-py3-none-any.whl (86 kB)\n",
      "     ---------------------------------------- 86.8/86.8 kB 2.5 MB/s eta 0:00:00\n",
      "Requirement already satisfied: colorama in c:\\users\\david\\appdata\\local\\programs\\python\\python310\\lib\\site-packages (from tqdm->sentence-transformers) (0.4.6)\n",
      "Requirement already satisfied: tokenizers<0.20,>=0.19 in c:\\users\\david\\appdata\\local\\programs\\python\\python310\\lib\\site-packages (from transformers<5.0.0,>=4.34.0->sentence-transformers) (0.19.1)\n",
      "Requirement already satisfied: safetensors>=0.4.1 in c:\\users\\david\\appdata\\local\\programs\\python\\python310\\lib\\site-packages (from transformers<5.0.0,>=4.34.0->sentence-transformers) (0.4.3)\n",
      "Requirement already satisfied: MarkupSafe>=2.0 in c:\\users\\david\\appdata\\local\\programs\\python\\python310\\lib\\site-packages (from jinja2->torch) (2.1.5)\n",
      "Requirement already satisfied: threadpoolctl>=3.1.0 in c:\\users\\david\\appdata\\local\\programs\\python\\python310\\lib\\site-packages (from scikit-learn->sentence-transformers) (3.5.0)\n",
      "Requirement already satisfied: mpmath<1.4,>=1.1.0 in c:\\users\\david\\appdata\\local\\programs\\python\\python310\\lib\\site-packages (from sympy->torch) (1.3.0)\n",
      "Collecting sniffio>=1.1\n",
      "  Downloading sniffio-1.3.1-py3-none-any.whl (10 kB)\n",
      "Requirement already satisfied: exceptiongroup>=1.0.2 in c:\\users\\david\\appdata\\roaming\\python\\python310\\site-packages (from anyio<5,>=3.4.0->starlette<0.39.0,>=0.37.2->fastapi) (1.2.2)\n",
      "Requirement already satisfied: idna>=2.8 in c:\\users\\david\\appdata\\local\\programs\\python\\python310\\lib\\site-packages (from anyio<5,>=3.4.0->starlette<0.39.0,>=0.37.2->fastapi) (3.7)\n",
      "Collecting cffi>=1.12\n",
      "  Downloading cffi-1.17.0-cp310-cp310-win_amd64.whl (180 kB)\n",
      "     -------------------------------------- 180.8/180.8 kB 2.8 MB/s eta 0:00:00\n",
      "Collecting cachetools<6.0,>=2.0.0\n",
      "  Downloading cachetools-5.5.0-py3-none-any.whl (9.5 kB)\n",
      "Collecting rsa<5,>=3.1.4\n",
      "  Using cached rsa-4.9-py3-none-any.whl (34 kB)\n",
      "Collecting pyasn1-modules>=0.2.1\n",
      "  Using cached pyasn1_modules-0.4.0-py3-none-any.whl (181 kB)\n",
      "Collecting protobuf!=3.20.0,!=3.20.1,!=4.21.0,!=4.21.1,!=4.21.2,!=4.21.3,!=4.21.4,!=4.21.5,<6.0.0.dev0,>=3.19.5\n",
      "  Downloading protobuf-5.27.4-cp310-abi3-win_amd64.whl (426 kB)\n",
      "     -------------------------------------- 426.9/426.9 kB 6.7 MB/s eta 0:00:00\n",
      "Collecting grpcio<2.0dev,>=1.33.2\n",
      "  Downloading grpcio-1.66.0-cp310-cp310-win_amd64.whl (4.3 MB)\n",
      "     ---------------------------------------- 4.3/4.3 MB 1.2 MB/s eta 0:00:00\n",
      "Requirement already satisfied: pyparsing!=3.0.0,!=3.0.1,!=3.0.2,!=3.0.3,<4,>=2.4.2 in c:\\users\\david\\appdata\\local\\programs\\python\\python310\\lib\\site-packages (from httplib2<1.dev0,>=0.19.0->google-api-python-client>=1.7.8->firebase-admin) (3.1.2)\n",
      "Requirement already satisfied: charset-normalizer<4,>=2 in c:\\users\\david\\appdata\\local\\programs\\python\\python310\\lib\\site-packages (from requests>=2.16.0->cachecontrol>=0.12.6->firebase-admin) (3.3.2)\n",
      "Requirement already satisfied: urllib3<3,>=1.21.1 in c:\\users\\david\\appdata\\local\\programs\\python\\python310\\lib\\site-packages (from requests>=2.16.0->cachecontrol>=0.12.6->firebase-admin) (2.2.2)\n",
      "Requirement already satisfied: certifi>=2017.4.17 in c:\\users\\david\\appdata\\local\\programs\\python\\python310\\lib\\site-packages (from requests>=2.16.0->cachecontrol>=0.12.6->firebase-admin) (2024.7.4)\n",
      "Collecting pycparser\n",
      "  Downloading pycparser-2.22-py3-none-any.whl (117 kB)\n",
      "     -------------------------------------- 117.6/117.6 kB 1.7 MB/s eta 0:00:00\n",
      "Collecting pyasn1<0.7.0,>=0.4.6\n",
      "  Using cached pyasn1-0.6.0-py2.py3-none-any.whl (85 kB)\n",
      "Installing collected packages: uritemplate, sniffio, pyjwt, pydantic-core, pycparser, pyasn1, protobuf, msgpack, httplib2, grpcio, google-crc32c, cachetools, annotated-types, rsa, pydantic, pyasn1-modules, proto-plus, nltk, googleapis-common-protos, google-resumable-media, cffi, cachecontrol, anyio, starlette, rake-nltk, grpcio-status, google-auth, cryptography, google-auth-httplib2, google-api-core, fastapi, google-cloud-core, google-api-python-client, google-cloud-storage, google-cloud-firestore, firebase-admin\n",
      "  Attempting uninstall: protobuf\n",
      "    Found existing installation: protobuf 4.25.3\n",
      "    Uninstalling protobuf-4.25.3:\n",
      "      Successfully uninstalled protobuf-4.25.3\n",
      "  Attempting uninstall: grpcio\n",
      "    Found existing installation: grpcio 1.65.1\n",
      "    Uninstalling grpcio-1.65.1:\n",
      "      Successfully uninstalled grpcio-1.65.1\n",
      "Successfully installed annotated-types-0.7.0 anyio-4.4.0 cachecontrol-0.14.0 cachetools-5.5.0 cffi-1.17.0 cryptography-43.0.0 fastapi-0.112.2 firebase-admin-6.5.0 google-api-core-2.19.2 google-api-python-client-2.142.0 google-auth-2.34.0 google-auth-httplib2-0.2.0 google-cloud-core-2.4.1 google-cloud-firestore-2.18.0 google-cloud-storage-2.18.2 google-crc32c-1.5.0 google-resumable-media-2.7.2 googleapis-common-protos-1.65.0 grpcio-1.66.0 grpcio-status-1.66.0 httplib2-0.22.0 msgpack-1.0.8 nltk-3.9.1 proto-plus-1.24.0 protobuf-5.27.4 pyasn1-0.6.0 pyasn1-modules-0.4.0 pycparser-2.22 pydantic-2.8.2 pydantic-core-2.20.1 pyjwt-2.9.0 rake-nltk-1.0.6 rsa-4.9 sniffio-1.3.1 starlette-0.38.2 uritemplate-4.1.1\n",
      "Note: you may need to restart the kernel to use updated packages.\n"
     ]
    },
    {
     "name": "stderr",
     "output_type": "stream",
     "text": [
      "ERROR: pip's dependency resolver does not currently take into account all the packages that are installed. This behaviour is the source of the following dependency conflicts.\n",
      "tensorflow-intel 2.17.0 requires protobuf!=4.21.0,!=4.21.1,!=4.21.2,!=4.21.3,!=4.21.4,!=4.21.5,<5.0.0dev,>=3.20.3, but you have protobuf 5.27.4 which is incompatible.\n",
      "tensorboard 2.17.0 requires protobuf!=4.24.0,<5.0.0,>=3.19.6, but you have protobuf 5.27.4 which is incompatible.\n",
      "\n",
      "[notice] A new release of pip available: 22.3.1 -> 24.2\n",
      "[notice] To update, run: python.exe -m pip install --upgrade pip\n"
     ]
    }
   ],
   "source": [
    "%pip install fastapi firebase-admin sentence-transformers torch rake-nltk\n"
   ]
  },
  {
   "cell_type": "code",
   "execution_count": 2,
   "metadata": {},
   "outputs": [
    {
     "name": "stdout",
     "output_type": "stream",
     "text": [
      "Requirement already satisfied: uvicorn in c:\\users\\david\\appdata\\local\\programs\\python\\python310\\lib\\site-packages (0.30.5)\n",
      "Requirement already satisfied: h11>=0.8 in c:\\users\\david\\appdata\\local\\programs\\python\\python310\\lib\\site-packages (from uvicorn) (0.14.0)\n",
      "Requirement already satisfied: click>=7.0 in c:\\users\\david\\appdata\\local\\programs\\python\\python310\\lib\\site-packages (from uvicorn) (8.1.7)\n",
      "Requirement already satisfied: typing-extensions>=4.0 in c:\\users\\david\\appdata\\local\\programs\\python\\python310\\lib\\site-packages (from uvicorn) (4.12.2)\n",
      "Requirement already satisfied: colorama in c:\\users\\david\\appdata\\local\\programs\\python\\python310\\lib\\site-packages (from click>=7.0->uvicorn) (0.4.6)\n",
      "Note: you may need to restart the kernel to use updated packages.\n"
     ]
    },
    {
     "name": "stderr",
     "output_type": "stream",
     "text": [
      "\n",
      "[notice] A new release of pip available: 22.3.1 -> 24.2\n",
      "[notice] To update, run: python.exe -m pip install --upgrade pip\n"
     ]
    }
   ],
   "source": [
    "%pip install uvicorn\n"
   ]
  },
  {
   "cell_type": "code",
   "execution_count": 3,
   "metadata": {},
   "outputs": [
    {
     "data": {
      "text/plain": [
       "200"
      ]
     },
     "execution_count": 3,
     "metadata": {},
     "output_type": "execute_result"
    }
   ],
   "source": [
    "import requests\n",
    "\n",
    "# URL of the GIF\n",
    "gif_url = \"https://media.giphy.com/media/iFCgdZ9MuooZ12fUXE/giphy.gif\"\n",
    "\n",
    "# Send a GET request to the URL\n",
    "response = requests.get(gif_url)\n",
    "\n",
    "# Save the GIF to a file\n",
    "if response.status_code == 200:\n",
    "    with open(\"space_goat.gif\", \"wb\") as f:\n",
    "        f.write(response.content)\n",
    "\n",
    "response.status_code\n"
   ]
  },
  {
   "cell_type": "code",
   "execution_count": 4,
   "metadata": {},
   "outputs": [
    {
     "name": "stdout",
     "output_type": "stream",
     "text": [
      "Requirement already satisfied: requests in c:\\users\\david\\appdata\\local\\programs\\python\\python310\\lib\\site-packages (2.32.3)\n",
      "Requirement already satisfied: urllib3<3,>=1.21.1 in c:\\users\\david\\appdata\\local\\programs\\python\\python310\\lib\\site-packages (from requests) (2.2.2)\n",
      "Requirement already satisfied: idna<4,>=2.5 in c:\\users\\david\\appdata\\local\\programs\\python\\python310\\lib\\site-packages (from requests) (3.7)\n",
      "Requirement already satisfied: charset-normalizer<4,>=2 in c:\\users\\david\\appdata\\local\\programs\\python\\python310\\lib\\site-packages (from requests) (3.3.2)\n",
      "Requirement already satisfied: certifi>=2017.4.17 in c:\\users\\david\\appdata\\local\\programs\\python\\python310\\lib\\site-packages (from requests) (2024.7.4)\n",
      "Note: you may need to restart the kernel to use updated packages.\n"
     ]
    },
    {
     "name": "stderr",
     "output_type": "stream",
     "text": [
      "\n",
      "[notice] A new release of pip available: 22.3.1 -> 24.2\n",
      "[notice] To update, run: python.exe -m pip install --upgrade pip\n"
     ]
    }
   ],
   "source": [
    "%pip install requests"
   ]
  }
 ],
 "metadata": {
  "kernelspec": {
   "display_name": "Python 3",
   "language": "python",
   "name": "python3"
  },
  "language_info": {
   "codemirror_mode": {
    "name": "ipython",
    "version": 3
   },
   "file_extension": ".py",
   "mimetype": "text/x-python",
   "name": "python",
   "nbconvert_exporter": "python",
   "pygments_lexer": "ipython3",
   "version": "3.10.9"
  }
 },
 "nbformat": 4,
 "nbformat_minor": 2
}
